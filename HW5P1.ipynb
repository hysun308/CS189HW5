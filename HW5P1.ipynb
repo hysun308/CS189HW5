{
 "cells": [
  {
   "cell_type": "code",
   "execution_count": 2,
   "metadata": {
    "collapsed": false
   },
   "outputs": [],
   "source": [
    "import numpy as np\n",
    "import scipy\n",
    "import matplotlib.pyplot as plt\n",
    "import sklearn.metrics as metrics\n",
    "%matplotlib inline"
   ]
  },
  {
   "cell_type": "markdown",
   "metadata": {},
   "source": [
    "huihi"
   ]
  },
  {
   "cell_type": "code",
   "execution_count": null,
   "metadata": {
    "collapsed": false,
    "scrolled": true
   },
   "outputs": [],
   "source": [
    "N = 100 #Number of point\n",
    "theta = np.random.uniform(0,2*np.pi,N)\n",
    "w1 = np.random.normal(loc=0,scale=1,size=N)\n",
    "w2 = np.random.normal(loc=0,scale=1,size=N)\n",
    "\n",
    "x1 = 8*np.cos(theta)+w1\n",
    "x2 = 8*np.sin(theta)+w2\n",
    "\n",
    "v1 = np.random.normal(loc=0,scale=1,size=N)\n",
    "v2 = np.random.normal(loc=0,scale=1,size=N)\n",
    "\n",
    "X = np.zeros((200,2))\n",
    "X[0:100,0]=x1\n",
    "X[0:100,1] =x2\n",
    "X[100:200,0] =v1\n",
    "X[100:200,1] =v2\n",
    "\n",
    "Y = np.ones((200,1))\n",
    "Y[100:200] = -1\n",
    "\n",
    "\n",
    "plt.plot(X[0:100,0],X[0:100,1],'.',color='b',label='y = 1')\n",
    "plt.plot(X[100:200,0],X[100:200,1],'.',color='r',label='y = -1')\n",
    "plt.legend()\n",
    "\n",
    "\n",
    "\n"
   ]
  },
  {
   "cell_type": "code",
   "execution_count": 6,
   "metadata": {
    "collapsed": false
   },
   "outputs": [
    {
     "name": "stdout",
     "output_type": "stream",
     "text": [
      "Train accuracy: 0.985\n"
     ]
    }
   ],
   "source": [
    "reg = 1e-6\n",
    "K= (1+X.dot(X.T))**2\n",
    "a = (np.linalg.inv(K+reg*np.eye(2*N))).dot(Y)\n",
    "result = K.dot(a)\n",
    "result = (result>0)*2-1\n",
    "\n",
    "print(\"Train accuracy: {0}\".format(metrics.accuracy_score(Y, result)))\n"
   ]
  },
  {
   "cell_type": "code",
   "execution_count": 8,
   "metadata": {
    "collapsed": false
   },
   "outputs": [
    {
     "name": "stdout",
     "output_type": "stream",
     "text": [
      "(200, 200)\n",
      "(200, 200)\n"
     ]
    },
    {
     "data": {
      "text/plain": [
       "<matplotlib.collections.PathCollection at 0x8bdff28>"
      ]
     },
     "execution_count": 8,
     "metadata": {},
     "output_type": "execute_result"
    },
    {
     "data": {
      "image/png": "[encoded data removed]",
      "text/plain": [
       "<matplotlib.figure.Figure at 0x8b75400>"
      ]
     },
     "metadata": {},
     "output_type": "display_data"
    }
   ],
   "source": [
    "# X - some data in 2dimensional np.array\n",
    "\n",
    "x_min, x_max = X[:, 0].min() - 1, X[:, 0].max() + 1\n",
    "y_min, y_max = X[:, 1].min() - 1, X[:, 1].max() + 1\n",
    "xx, yy = np.meshgrid(np.arange(x_min, x_max,(x_max-x_min)/200),\n",
    "                     np.arange(y_min, y_max,(y_max-y_min)/200))\n",
    "print(xx.shape)\n",
    "# here \"model\" is your model's prediction (classification) function\n",
    "Z = np.ones((2*N,2*N))\n",
    "Z[100:200] = -1\n",
    "\n",
    "# Put the result into a color plot\n",
    "#Z = Z.reshape(xx.shape)\n",
    "print(Z.shape)\n",
    "plt.contourf(xx, yy, Z, cmap=plt.cm.Paired)\n",
    "plt.axis('off')\n",
    "\n",
    "# Plot also the training points\n",
    "plt.scatter(X[:, 0], X[:, 1], c=Y, cmap=plt.cm.Paired)"
   ]
  },
  {
   "cell_type": "code",
   "execution_count": 61,
   "metadata": {
    "collapsed": false
   },
   "outputs": [
    {
     "name": "stdout",
     "output_type": "stream",
     "text": [
      "Train accuracy: 1.0\n"
     ]
    }
   ],
   "source": [
    "gamma = 10\n",
    "reg2 = 1e-4\n",
    "K2 = np.zeros((2*N,2*N))\n",
    "for i in range(2*N):\n",
    " Zi = np.repeat([X[i]],2*N,axis=0)\n",
    " XZ= X-Zi\n",
    " XZ=XZ[:,0]**2+XZ[:,1]**2\n",
    " K2[i]=np.exp(-gamma*XZ)\n",
    "a2 = (np.linalg.inv(K2+reg2*np.eye(2*N))).dot(Y)\n",
    "result2 = K2.dot(a2)\n",
    "result2 = (result2>0)*2-1\n",
    "print(\"Train accuracy: {0}\".format(metrics.accuracy_score(Y, result2)))\n"
   ]
  },
  {
   "cell_type": "code",
   "execution_count": null,
   "metadata": {
    "collapsed": false
   },
   "outputs": [],
   "source": []
  },
  {
   "cell_type": "code",
   "execution_count": null,
   "metadata": {
    "collapsed": true
   },
   "outputs": [],
   "source": []
  }
 ],
 "metadata": {
  "anaconda-cloud": {},
  "kernelspec": {
   "display_name": "Python [Root]",
   "language": "python",
   "name": "Python [Root]"
  },
  "language_info": {
   "codemirror_mode": {
    "name": "ipython",
    "version": 3
   },
   "file_extension": ".py",
   "mimetype": "text/x-python",
   "name": "python",
   "nbconvert_exporter": "python",
   "pygments_lexer": "ipython3",
   "version": "3.5.2"
  }
 },
 "nbformat": 4,
 "nbformat_minor": 0
}
